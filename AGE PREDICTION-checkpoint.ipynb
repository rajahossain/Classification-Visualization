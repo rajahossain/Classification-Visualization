{
 "cells": [
  {
   "cell_type": "code",
   "execution_count": 1,
   "metadata": {},
   "outputs": [],
   "source": [
    "import numpy as np # linear algebra\n",
    "import pandas as pd # data processing, CSV file I/O (e.g. pd.read_csv)\n",
    "import os\n",
    "#import catboost\n",
    "\n",
    "#from catboost import Pool\n",
    "from sklearn.model_selection import train_test_split"
   ]
  },
  {
   "cell_type": "code",
   "execution_count": 2,
   "metadata": {},
   "outputs": [],
   "source": [
    "users_df = pd.read_csv('C:/Users/nasrin/Desktop/AGE PREDICTION/archive/users.csv', index_col='uid')\n",
    "bundles_gender_df = pd.read_csv('C:/Users/nasrin/Desktop/AGE PREDICTION/archive/bundles_gender.csv', index_col='id')"
   ]
  },
  {
   "cell_type": "code",
   "execution_count": 3,
   "metadata": {},
   "outputs": [
    {
     "name": "stdout",
     "output_type": "stream",
     "text": [
      "                                                                    ids gend\n",
      "uid                                                                         \n",
      "12881473748306291261              [1550,112062,2838,54980,64759,993066]    M\n",
      "5871496169617046171           [40391,2190,1371978,2023,39200,3516,1634]    M\n",
      "13595464671590588595  [9728,1314190,979199,2552,1479,1449,976774,131...    M\n",
      "12650219932966072351                     [4564,284734,16370,3044,10801]    M\n",
      "14238267784075812558                                [6834,4149,1408540]    M\n",
      "Shape- (627761, 2) \n",
      "\n",
      "\n",
      "\n",
      "\n",
      "\n",
      " INFO-\n",
      "<class 'pandas.core.frame.DataFrame'>\n",
      "UInt64Index: 627761 entries, 12881473748306291261 to 7574564252383497711\n",
      "Data columns (total 2 columns):\n",
      " #   Column  Non-Null Count   Dtype \n",
      "---  ------  --------------   ----- \n",
      " 0   ids     627761 non-null  object\n",
      " 1   gend    627761 non-null  object\n",
      "dtypes: object(2)\n",
      "memory usage: 14.4+ MB\n",
      "None \n",
      "\n",
      "\n",
      "\n",
      "\n",
      "\n",
      " INFO- Description-\n",
      "                     ids    gend\n",
      "count             627761  627761\n",
      "unique            619397       2\n",
      "top     [1569,2594,5510]       M\n",
      "freq                  85  418845\n"
     ]
    }
   ],
   "source": [
    "print(users_df.head())\n",
    "print(\"Shape-\" ,users_df.shape,\"\\n\\n\\n\\n\\n\\n INFO-\" )\n",
    "print(users_df.info(),\"\\n\\n\\n\\n\\n\\n INFO-\" ,\"Description-\" )\n",
    "print(users_df.describe())"
   ]
  },
  {
   "cell_type": "code",
   "execution_count": 4,
   "metadata": {
    "scrolled": true
   },
   "outputs": [
    {
     "name": "stdout",
     "output_type": "stream",
     "text": [
      "        cnt         M         F\n",
      "id                             \n",
      "26550    79  0.430380  0.569620\n",
      "22488   236  0.525424  0.474576\n",
      "203745    6  0.500000  0.500000\n",
      "101327    5  0.200000  0.800000\n",
      "354773    1  0.000000  1.000000\n",
      "Shape- (171272, 3) \n",
      "\n",
      "\n",
      "\n",
      "\n",
      "\n",
      " INFO-\n",
      "<class 'pandas.core.frame.DataFrame'>\n",
      "Int64Index: 171272 entries, 26550 to 295193\n",
      "Data columns (total 3 columns):\n",
      " #   Column  Non-Null Count   Dtype  \n",
      "---  ------  --------------   -----  \n",
      " 0   cnt     171272 non-null  int64  \n",
      " 1   M       171272 non-null  float64\n",
      " 2   F       171272 non-null  float64\n",
      "dtypes: float64(2), int64(1)\n",
      "memory usage: 5.2 MB\n",
      "None \n",
      "\n",
      "\n",
      "\n",
      "\n",
      "\n",
      " Description-\n",
      "                cnt              M              F\n",
      "count  1.712720e+05  171272.000000  171272.000000\n",
      "mean   2.734206e+03       0.572223       0.427777\n",
      "std    1.438253e+05       0.312330       0.312330\n",
      "min    1.000000e+00       0.000000       0.000000\n",
      "25%    3.000000e+00       0.338687       0.167736\n",
      "50%    1.100000e+01       0.585955       0.414045\n",
      "75%    7.300000e+01       0.832264       0.661313\n",
      "max    4.435328e+07       1.000000       1.000000\n"
     ]
    }
   ],
   "source": [
    "print(bundles_gender_df.head())\n",
    "print(\"Shape-\" ,bundles_gender_df.shape,\"\\n\\n\\n\\n\\n\\n INFO-\" )\n",
    "print(bundles_gender_df.info(),\"\\n\\n\\n\\n\\n\\n Description-\" )\n",
    "print(bundles_gender_df.describe())"
   ]
  },
  {
   "cell_type": "code",
   "execution_count": null,
   "metadata": {},
   "outputs": [],
   "source": [
    "\n"
   ]
  },
  {
   "cell_type": "code",
   "execution_count": null,
   "metadata": {},
   "outputs": [],
   "source": []
  }
 ],
 "metadata": {
  "kernelspec": {
   "display_name": "Python 3",
   "language": "python",
   "name": "python3"
  },
  "language_info": {
   "codemirror_mode": {
    "name": "ipython",
    "version": 3
   },
   "file_extension": ".py",
   "mimetype": "text/x-python",
   "name": "python",
   "nbconvert_exporter": "python",
   "pygments_lexer": "ipython3",
   "version": "3.8.5"
  }
 },
 "nbformat": 4,
 "nbformat_minor": 4
}
